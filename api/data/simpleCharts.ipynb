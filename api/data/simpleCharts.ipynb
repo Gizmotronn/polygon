{
 "cells": [
  {
   "cell_type": "code",
   "execution_count": null,
   "metadata": {},
   "outputs": [],
   "source": [
    "import plotly.graph_objects as go"
   ]
  },
  {
   "cell_type": "code",
   "execution_count": null,
   "metadata": {},
   "outputs": [],
   "source": [
    "def my_plot(data,plot_var):\n",
    "    data_plot = go.Scatter(x=list(range(data.shape[0])),y=data[plot_var], line=dict(color=\"#CE285E\",width=2))\n",
    "    layout=go.Layout(title=dict(text=\"This is a Line Chart of Variable\"+\" \"+str(plot_var),x=0.5),\n",
    "    xaxis_title=\"Record Number\", yaxis_title=\"Values\"\n",
    "    )\n",
    "\n",
    "    fig =go.Figure(data=data_plot, layout=layout)\n",
    "\n",
    "    fig_json = fig.to_json()\n",
    "    graphJSON = json.dumps(fig_json, cls=plotly.utils.PlotlyJSONEncoder)\n",
    "    return graphJSON"
   ]
  }
 ],
 "metadata": {
  "language_info": {
   "name": "python"
  },
  "orig_nbformat": 4
 },
 "nbformat": 4,
 "nbformat_minor": 2
}
